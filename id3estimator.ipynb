{
 "cells": [
  {
   "cell_type": "code",
   "execution_count": 2,
   "id": "norman-supply",
   "metadata": {},
   "outputs": [],
   "source": [
    "from sklearn.datasets import load_breast_cancer\n",
    "from sklearn.model_selection import train_test_split\n",
    "import pandas as pd"
   ]
  },
  {
   "cell_type": "code",
   "execution_count": 3,
   "id": "lightweight-invitation",
   "metadata": {},
   "outputs": [
    {
     "data": {
      "text/html": [
       "<div>\n",
       "<style scoped>\n",
       "    .dataframe tbody tr th:only-of-type {\n",
       "        vertical-align: middle;\n",
       "    }\n",
       "\n",
       "    .dataframe tbody tr th {\n",
       "        vertical-align: top;\n",
       "    }\n",
       "\n",
       "    .dataframe thead th {\n",
       "        text-align: right;\n",
       "    }\n",
       "</style>\n",
       "<table border=\"1\" class=\"dataframe\">\n",
       "  <thead>\n",
       "    <tr style=\"text-align: right;\">\n",
       "      <th></th>\n",
       "      <th>outlook</th>\n",
       "      <th>temp</th>\n",
       "      <th>humidity</th>\n",
       "      <th>windy</th>\n",
       "      <th>play</th>\n",
       "    </tr>\n",
       "  </thead>\n",
       "  <tbody>\n",
       "    <tr>\n",
       "      <th>0</th>\n",
       "      <td>sunny</td>\n",
       "      <td>hot</td>\n",
       "      <td>high</td>\n",
       "      <td>False</td>\n",
       "      <td>no</td>\n",
       "    </tr>\n",
       "    <tr>\n",
       "      <th>1</th>\n",
       "      <td>sunny</td>\n",
       "      <td>hot</td>\n",
       "      <td>high</td>\n",
       "      <td>True</td>\n",
       "      <td>no</td>\n",
       "    </tr>\n",
       "    <tr>\n",
       "      <th>2</th>\n",
       "      <td>overcast</td>\n",
       "      <td>hot</td>\n",
       "      <td>high</td>\n",
       "      <td>False</td>\n",
       "      <td>yes</td>\n",
       "    </tr>\n",
       "    <tr>\n",
       "      <th>3</th>\n",
       "      <td>rainy</td>\n",
       "      <td>mild</td>\n",
       "      <td>high</td>\n",
       "      <td>False</td>\n",
       "      <td>yes</td>\n",
       "    </tr>\n",
       "    <tr>\n",
       "      <th>4</th>\n",
       "      <td>rainy</td>\n",
       "      <td>cool</td>\n",
       "      <td>normal</td>\n",
       "      <td>False</td>\n",
       "      <td>yes</td>\n",
       "    </tr>\n",
       "  </tbody>\n",
       "</table>\n",
       "</div>"
      ],
      "text/plain": [
       "    outlook  temp humidity  windy play\n",
       "0     sunny   hot     high  False   no\n",
       "1     sunny   hot     high   True   no\n",
       "2  overcast   hot     high  False  yes\n",
       "3     rainy  mild     high  False  yes\n",
       "4     rainy  cool   normal  False  yes"
      ]
     },
     "execution_count": 3,
     "metadata": {},
     "output_type": "execute_result"
    }
   ],
   "source": [
    "# load data\n",
    "\n",
    "# data 1 : breast cancer\n",
    "data1 = load_breast_cancer()\n",
    "\n",
    "df1 = pd.DataFrame(data1.data, columns=data1.feature_names)\n",
    "\n",
    "df1['target']= data1.target\n",
    "\n",
    "df1.head()\n",
    "\n",
    "\n",
    "# data 2 : tennis\n",
    "df2 = pd.read_csv('datasets/PlayTennis.csv')\n",
    "\n",
    "df2.head()"
   ]
  },
  {
   "cell_type": "code",
   "execution_count": 5,
   "id": "tropical-fundamental",
   "metadata": {},
   "outputs": [],
   "source": [
    "# split to train 80% - test 20% \n",
    "\n",
    "# breast cancer\n",
    "x1 = df1.drop(['target'], axis=1)\n",
    "y1 = df1['target']\n",
    "\n",
    "X_train1, X_test1, y_train1, y_test1 = train_test_split(x1, y1, test_size = 0.2, random_state = 1)\n",
    "\n",
    "# tennis\n",
    "x2 = df2.drop(['play'], axis=1)\n",
    "y2 = df2['play']\n",
    "\n",
    "X_train2, X_test2, y_train2, y_test2 = train_test_split(x2, y2, test_size = 0.2, random_state = 1)"
   ]
  },
  {
   "cell_type": "code",
   "execution_count": 6,
   "id": "modern-journey",
   "metadata": {},
   "outputs": [
    {
     "name": "stdout",
     "output_type": "stream",
     "text": [
      "Categorical variables:\n",
      "['outlook', 'temp', 'humidity']\n"
     ]
    }
   ],
   "source": [
    "s = (X_train2.dtypes == 'object')\n",
    "object_cols = list(s[s].index)\n",
    "\n",
    "print(\"Categorical variables:\")\n",
    "print(object_cols)"
   ]
  },
  {
   "cell_type": "code",
   "execution_count": 7,
   "id": "breathing-rotation",
   "metadata": {},
   "outputs": [],
   "source": [
    "from sklearn.preprocessing import LabelEncoder\n",
    "\n",
    "# Make copy to avoid changing original data \n",
    "label_X_train2 = X_train2.copy()\n",
    "label_X_test2 = X_test2.copy()\n",
    "\n",
    "# Apply label encoder to each column with categorical data\n",
    "label_encoder = LabelEncoder()\n",
    "for col in object_cols:\n",
    "    label_X_train2[col] = label_encoder.fit_transform(X_train2[col])\n",
    "    label_X_test2[col] = label_encoder.transform(X_test2[col])\n",
    "\n",
    "label_y_train2 = label_encoder.fit_transform(y_train2)\n",
    "label_y_test2 = label_encoder.transform(y_test2)\n",
    "    \n",
    "#print(label_y_train2)\n",
    "#y_train2.head()"
   ]
  },
  {
   "cell_type": "code",
   "execution_count": 8,
   "id": "awful-western",
   "metadata": {},
   "outputs": [
    {
     "name": "stdout",
     "output_type": "stream",
     "text": [
      "\n",
      "outlook <=0.50: 1 (3) \n",
      "outlook >0.50\n",
      "|   humidity <=0.50: 0 (3) \n",
      "|   humidity >0.50\n",
      "|   |   windy <=0.50: 1 (3) \n",
      "|   |   windy >0.50\n",
      "|   |   |   temp <=1.00: 0 (1) \n",
      "|   |   |   temp >1.00: 1 (1) \n",
      "\n"
     ]
    }
   ],
   "source": [
    "# ID3 Algorithm\n",
    "import six\n",
    "import sys\n",
    "sys.modules['sklearn.externals.six'] = six\n",
    "\n",
    "from id3 import Id3Estimator, export\n",
    "\n",
    "id3_model1 = Id3Estimator()\n",
    "id3_model2 = Id3Estimator()\n",
    "\n",
    "id3_model1.fit(X_train1, y_train1)\n",
    "id3_model2.fit(label_X_train2, label_y_train2)\n",
    "\n",
    "# export text\n",
    "tree_text1 = export.export_text(id3_model1.tree_, feature_names=list(x1.columns))\n",
    "tree_text2 = export.export_text(id3_model2.tree_, feature_names=list(x2.columns))\n",
    "\n",
    "print(tree_text2)"
   ]
  },
  {
   "cell_type": "code",
   "execution_count": 9,
   "id": "rising-feelings",
   "metadata": {},
   "outputs": [],
   "source": [
    "# export graphviz ver.\n",
    "# export.export_graphviz(id3_model.tree_, \"out.dot\", feature_names=list(x1.columns))"
   ]
  },
  {
   "cell_type": "code",
   "execution_count": 10,
   "id": "alien-flooring",
   "metadata": {},
   "outputs": [
    {
     "name": "stdout",
     "output_type": "stream",
     "text": [
      "Accuracy:  1.0\n",
      "F1 score:  1.0\n",
      "Accuracy:  1.0\n",
      "F1 score:  1.0\n"
     ]
    }
   ],
   "source": [
    "# Model Evaluation\n",
    "from sklearn.metrics import accuracy_score, f1_score\n",
    "\n",
    "# breast cancer\n",
    "predict_train1 = id3_model1.predict(X_train1)\n",
    "\n",
    "print(\"Accuracy: \", accuracy_score(predict_train1, y_train1))\n",
    "print(\"F1 score: \", f1_score(predict_train1, y_train1))\n",
    "\n",
    "\n",
    "# tennis\n",
    "predict_train2 = id3_model2.predict(label_X_train2)\n",
    "\n",
    "print(\"Accuracy: \", accuracy_score(predict_train2,label_y_train2))\n",
    "print(\"F1 score: \", f1_score(predict_train2,label_y_train2))"
   ]
  },
  {
   "cell_type": "code",
   "execution_count": 11,
   "id": "hungarian-marker",
   "metadata": {},
   "outputs": [
    {
     "name": "stdout",
     "output_type": "stream",
     "text": [
      "Accuracy:  0.9385964912280702\n",
      "F1 score:  0.953020134228188\n",
      "Accuracy:  0.6666666666666666\n",
      "F1 score:  0.6666666666666666\n"
     ]
    }
   ],
   "source": [
    "# Model Prediction\n",
    "predict_test1 = id3_model1.predict(X_test1)\n",
    "\n",
    "print(\"Accuracy: \", accuracy_score(predict_test1,y_test1))\n",
    "print(\"F1 score: \", f1_score(predict_test1,y_test1))\n",
    "\n",
    "# tennis\n",
    "predict_test2 = id3_model2.predict(label_X_test2)\n",
    "\n",
    "print(\"Accuracy: \", accuracy_score(predict_test2,label_y_test2))\n",
    "print(\"F1 score: \", f1_score(predict_test2,label_y_test2))"
   ]
  },
  {
   "cell_type": "code",
   "execution_count": 12,
   "id": "legal-brick",
   "metadata": {},
   "outputs": [],
   "source": [
    "# Analisis hasil Accuracy dan F1 yang sudah diperoleh untuk semua algoritma\n",
    "# pembelajaran, dalam bentuk perbandingan nilai dan penjelasan singkat mengenai\n",
    "# hasil tersebut."
   ]
  },
  {
   "cell_type": "code",
   "execution_count": null,
   "id": "downtown-while",
   "metadata": {},
   "outputs": [],
   "source": []
  },
  {
   "cell_type": "code",
   "execution_count": null,
   "id": "maritime-joint",
   "metadata": {},
   "outputs": [],
   "source": []
  }
 ],
 "metadata": {
  "kernelspec": {
   "display_name": "Python 3",
   "language": "python",
   "name": "python3"
  },
  "language_info": {
   "codemirror_mode": {
    "name": "ipython",
    "version": 3
   },
   "file_extension": ".py",
   "mimetype": "text/x-python",
   "name": "python",
   "nbconvert_exporter": "python",
   "pygments_lexer": "ipython3",
   "version": "3.7.0"
  }
 },
 "nbformat": 4,
 "nbformat_minor": 5
}
